{
  "nbformat": 4,
  "nbformat_minor": 0,
  "metadata": {
    "colab": {
      "provenance": []
    },
    "kernelspec": {
      "name": "python3",
      "display_name": "Python 3"
    },
    "language_info": {
      "name": "python"
    }
  },
  "cells": [
    {
      "cell_type": "code",
      "execution_count": 1,
      "metadata": {
        "colab": {
          "base_uri": "https://localhost:8080/"
        },
        "id": "n9HTPTjwoGQZ",
        "outputId": "bf1e3364-1003-47fe-9c88-257aa9c3766f"
      },
      "outputs": [
        {
          "output_type": "stream",
          "name": "stderr",
          "text": [
            "[nltk_data] Downloading package punkt to /root/nltk_data...\n",
            "[nltk_data]   Unzipping tokenizers/punkt.zip.\n"
          ]
        },
        {
          "output_type": "stream",
          "name": "stdout",
          "text": [
            "The probability of the given sentence occurring in the text is: 1.929747681390659e-08\n"
          ]
        }
      ],
      "source": [
        "import nltk\n",
        "from nltk.util import bigrams\n",
        "from nltk.probability import FreqDist\n",
        "from nltk.tokenize import word_tokenize\n",
        "\n",
        "nltk.download('punkt')\n",
        "\n",
        "def calculate_bigram_probability(text, sentence):\n",
        "    words = word_tokenize(text.lower())\n",
        "    bigram = list(bigrams(words))\n",
        "    fdist = FreqDist(bigram)\n",
        "\n",
        "    sentence_bigram = list(bigrams(word_tokenize(sentence.lower())))\n",
        "\n",
        "    total_bigrams = len(bigram)\n",
        "    sentence_probability = 1.0\n",
        "\n",
        "    for bg in sentence_bigram:\n",
        "        sentence_probability *= fdist[bg] / total_bigrams\n",
        "\n",
        "    return sentence_probability\n",
        "\n",
        "# Example Usage\n",
        "english_text = \"Spring is a beautiful season. It is the time of year when the cold, harsh winter begins to fade away and the world comes alive once again. The trees start to bud, the flowers begin to bloom, and the air is filled with the sweet scent of new growth.As I sit here, looking out at the world around me, I can't help but feel a sense of joy and renewal. The grass is a vibrant green, and the sun is shining brightly in the clear blue sky. Children are playing outside, their laughter filling the air, and birds are singing their sweet songs.Spring is a time of new beginnings. It is a time to start fresh, to let go of the past and look forward to the future. It is a time to set new goals and to work towards achieving them. It is a time to plant seeds and watch them grow into beautiful flowers and delicious vegetables.As I walk through the park, I am surrounded by the beauty of spring. The cherry blossoms are in full bloom, their delicate pink petals fluttering in the breeze. The daffodils and tulips are a burst of color, their bright yellow and orange petals a stark contrast to the green grass.Spring is a time of love and romance. It is a time when couples walk hand in hand, their hearts filled with joy and happiness. It is a time when love is in the air, and anything seems possible.As I sit on a bench, watching the world go by, I can't help but feel grateful for this beautiful season. Spring is a time of hope and renewal, a time to start anew and to appreciate the beauty of the world around us.Spring is a beautiful season. It is a time of growth and renewal, a time to appreciate the beauty of the world around us. It is a time to set new goals and to work towards achieving them. It is a time to plant seeds and watch them grow into beautiful flowers and delicious vegetables.As I walk home, I am filled with a sense of peace and contentment. Spring is a beautiful season, and I am grateful for every moment of it.\"\n",
        "given_sentence = \"Spring is a beautiful season\"\n",
        "\n",
        "sentence_probability = calculate_bigram_probability(english_text, given_sentence)\n",
        "print(f\"The probability of the given sentence occurring in the text is: {sentence_probability}\")"
      ]
    }
  ]
}